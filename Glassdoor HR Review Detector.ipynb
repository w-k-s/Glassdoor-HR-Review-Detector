{
 "cells": [
  {
   "cell_type": "markdown",
   "id": "398c4ab2-0150-449d-a329-f379b33c131b",
   "metadata": {},
   "source": [
    "# Glassdoor HR Review Detector"
   ]
  },
  {
   "cell_type": "markdown",
   "id": "5c11a4cb-c495-4a66-ac9a-5022ca56926b",
   "metadata": {},
   "source": [
    "# 1. Theory\n",
    "\n",
    "- The kinds of words that genuine employees use in glassdoor review is different from the one used by HR.\n",
    "- So my theory is that I can use AI to distinguist between these two kind of reviews.\n",
    "- This will be achived using embeddings. An embedding is a coversion of natural language to vectors. Vectors of similar words are close to each other. My theory is that one or more regions of of the vector space are more of the human resources kind while other regions are more of the genuine employee kinds.\n",
    "- My goal is to train a neural network to identify regions in the vector space that are \"hr\"-ish vs. regions that are \"genuine\"-ish. Based on this, given a review text, the network will be able to predict if the review was written by HR or not.\n",
    "\n",
    "\n",
    "- Training data consists of pros, cons, overall review, sounds like hr\n",
    "- pros, cons represented as vector embeddings using openai api\n",
    "\n",
    "> **NOTE**: How is the `sounds_like_hr` field set in the training data? The answer is that I set it based on my gut instinct! **Please do not take this project seriously**, it's just an excuse to try out machine learning algorithms. For context: I used Glassdoor in the past and suspected some reviews were written by HR; either because they would say there are no cons or they would pander to the company like 'you have to work late, but it's worth it'. I thought it would be a fun project to build an AI that could detect this based on my instinct rather than emperical data."
   ]
  },
  {
   "cell_type": "markdown",
   "id": "e2645e43-4e99-47eb-b657-52fc7697f614",
   "metadata": {},
   "source": [
    "## 1.1 Setup"
   ]
  },
  {
   "cell_type": "code",
   "execution_count": 7,
   "id": "0e101a63-f112-434c-86ae-3e07bb8352a6",
   "metadata": {},
   "outputs": [],
   "source": [
    "import csv\n",
    "import tempfile\n",
    "import numpy as np\n",
    "from IPython.display import display, HTML\n",
    "from utils.utils import load_csv_as_dictionary, array_of_dictionaries_to_csv_string\n",
    "from sklearn.model_selection import train_test_split\n",
    "from langchain_openai import OpenAIEmbeddings\n",
    "from langchain_community.document_loaders.csv_loader import CSVLoader\n",
    "from langchain_chroma import Chroma\n",
    "import pandas as pd\n",
    "from openai import OpenAI\n",
    "\n",
    "openaiClient = OpenAI()"
   ]
  },
  {
   "cell_type": "code",
   "execution_count": 75,
   "id": "e7a1c01b-2aa1-4c70-af64-7d9c54f8b399",
   "metadata": {},
   "outputs": [],
   "source": [
    "# 1. load csv as array of objects \n",
    "training_data = load_csv_as_dictionary(csv_filename='training-data/glassdoor-reviews-main.csv')"
   ]
  },
  {
   "cell_type": "code",
   "execution_count": 77,
   "id": "ae44f40b-acd1-420f-9773-d6b9e4c5583b",
   "metadata": {},
   "outputs": [
    {
     "data": {
      "text/html": [
       "<div>\n",
       "<style scoped>\n",
       "    .dataframe tbody tr th:only-of-type {\n",
       "        vertical-align: middle;\n",
       "    }\n",
       "\n",
       "    .dataframe tbody tr th {\n",
       "        vertical-align: top;\n",
       "    }\n",
       "\n",
       "    .dataframe thead th {\n",
       "        text-align: right;\n",
       "    }\n",
       "</style>\n",
       "<table border=\"1\" class=\"dataframe\">\n",
       "  <thead>\n",
       "    <tr style=\"text-align: right;\">\n",
       "      <th></th>\n",
       "      <th>empReview_id</th>\n",
       "      <th>date</th>\n",
       "      <th>overall_rating</th>\n",
       "      <th>pros</th>\n",
       "      <th>cons</th>\n",
       "      <th>sounds_like_hr</th>\n",
       "      <th>pros_embedding</th>\n",
       "      <th>cons_embedding</th>\n",
       "    </tr>\n",
       "  </thead>\n",
       "  <tbody>\n",
       "    <tr>\n",
       "      <th>0</th>\n",
       "      <td>empReview_17495196</td>\n",
       "      <td>Oct 23, 2017</td>\n",
       "      <td>4.0</td>\n",
       "      <td>Great growth and great people.</td>\n",
       "      <td>As in every startup, things tend to be unstruc...</td>\n",
       "      <td>True</td>\n",
       "      <td>[0.05013425275683403, 0.016153760254383087, 0....</td>\n",
       "      <td>[-0.046581801027059555, 0.09486118704080582, 0...</td>\n",
       "    </tr>\n",
       "    <tr>\n",
       "      <th>1</th>\n",
       "      <td>empReview_39824426</td>\n",
       "      <td>Dec 27, 2020</td>\n",
       "      <td>4.0</td>\n",
       "      <td>Used to be great culture now there is none</td>\n",
       "      <td>Management let go people without an ounce of k...</td>\n",
       "      <td>False</td>\n",
       "      <td>[-0.036672014743089676, 0.006614204496145248, ...</td>\n",
       "      <td>[0.06731574237346649, 0.11190391331911087, -0....</td>\n",
       "    </tr>\n",
       "    <tr>\n",
       "      <th>2</th>\n",
       "      <td>empReview_53053107</td>\n",
       "      <td>Sep 24, 2021</td>\n",
       "      <td>3.0</td>\n",
       "      <td>Competitive packages, good work environment</td>\n",
       "      <td>No work life balance, rotational shifts</td>\n",
       "      <td>False</td>\n",
       "      <td>[-0.031563591212034225, -0.05921819806098938, ...</td>\n",
       "      <td>[-0.06812486052513123, 0.1267542988061905, 0.1...</td>\n",
       "    </tr>\n",
       "    <tr>\n",
       "      <th>3</th>\n",
       "      <td>empReview_8252989</td>\n",
       "      <td>Oct 10, 2015</td>\n",
       "      <td>4.0</td>\n",
       "      <td>its a very good startup company they got raise...</td>\n",
       "      <td>actually nothing to say about cons.</td>\n",
       "      <td>True</td>\n",
       "      <td>[0.06713095307350159, -0.00833177100867033, 0....</td>\n",
       "      <td>[0.06517201662063599, -0.0013001225888729095, ...</td>\n",
       "    </tr>\n",
       "    <tr>\n",
       "      <th>4</th>\n",
       "      <td>empReview_17495063</td>\n",
       "      <td>Oct 23, 2017</td>\n",
       "      <td>5.0</td>\n",
       "      <td>fast pace multi cultural environment</td>\n",
       "      <td>Nothing negative to add here</td>\n",
       "      <td>True</td>\n",
       "      <td>[0.06553180515766144, 0.039654362946748734, 0....</td>\n",
       "      <td>[-0.06871192157268524, -0.023984350264072418, ...</td>\n",
       "    </tr>\n",
       "    <tr>\n",
       "      <th>...</th>\n",
       "      <td>...</td>\n",
       "      <td>...</td>\n",
       "      <td>...</td>\n",
       "      <td>...</td>\n",
       "      <td>...</td>\n",
       "      <td>...</td>\n",
       "      <td>...</td>\n",
       "      <td>...</td>\n",
       "    </tr>\n",
       "    <tr>\n",
       "      <th>346</th>\n",
       "      <td>empReview_85736752</td>\n",
       "      <td>Mar 26, 2024</td>\n",
       "      <td>4.0</td>\n",
       "      <td>Nice place to work higher management is the be...</td>\n",
       "      <td>In my case Line manager are not eligible for t...</td>\n",
       "      <td>False</td>\n",
       "      <td>[-0.05264364555478096, 0.0022777230478823185, ...</td>\n",
       "      <td>[-0.05477072298526764, 0.1417725533246994, 0.0...</td>\n",
       "    </tr>\n",
       "    <tr>\n",
       "      <th>347</th>\n",
       "      <td>empReview_79937582</td>\n",
       "      <td>Sep 11, 2023</td>\n",
       "      <td>1.0</td>\n",
       "      <td>What attracted me to parent company was the mi...</td>\n",
       "      <td>It's a total disaster from the top down. They ...</td>\n",
       "      <td>False</td>\n",
       "      <td>[-0.06940412521362305, -0.05084717273712158, -...</td>\n",
       "      <td>[0.00357118365354836, 0.08031114935874939, 0.0...</td>\n",
       "    </tr>\n",
       "    <tr>\n",
       "      <th>348</th>\n",
       "      <td>empReview_85832570</td>\n",
       "      <td>Mar 29, 2024</td>\n",
       "      <td>2.0</td>\n",
       "      <td>Best people in the region</td>\n",
       "      <td>Work life balance is not good. Busy work is re...</td>\n",
       "      <td>False</td>\n",
       "      <td>[-0.00355895864777267, -0.045777976512908936, ...</td>\n",
       "      <td>[0.02342342957854271, 0.09336186200380325, 0.1...</td>\n",
       "    </tr>\n",
       "    <tr>\n",
       "      <th>349</th>\n",
       "      <td>empReview_85700157</td>\n",
       "      <td>Mar 25, 2024</td>\n",
       "      <td>4.0</td>\n",
       "      <td>Exponential Learning | Fitness Reimbursement |...</td>\n",
       "      <td>Hire slow fire fast culture | More than averag...</td>\n",
       "      <td>False</td>\n",
       "      <td>[0.07080849260091782, 0.010619708336889744, 0....</td>\n",
       "      <td>[0.05213627591729164, 0.0846911370754242, 0.04...</td>\n",
       "    </tr>\n",
       "    <tr>\n",
       "      <th>350</th>\n",
       "      <td>empReview_85877829</td>\n",
       "      <td>Apr 1, 2024</td>\n",
       "      <td>5.0</td>\n",
       "      <td>Explained everything about the position in det...</td>\n",
       "      <td>nothing in particular to mention</td>\n",
       "      <td>True</td>\n",
       "      <td>[-0.0692061111330986, -0.02186555229127407, 0....</td>\n",
       "      <td>[-0.039153777062892914, -0.04821391403675079, ...</td>\n",
       "    </tr>\n",
       "  </tbody>\n",
       "</table>\n",
       "<p>351 rows × 8 columns</p>\n",
       "</div>"
      ],
      "text/plain": [
       "           empReview_id          date overall_rating  \\\n",
       "0    empReview_17495196  Oct 23, 2017            4.0   \n",
       "1    empReview_39824426  Dec 27, 2020            4.0   \n",
       "2    empReview_53053107  Sep 24, 2021            3.0   \n",
       "3     empReview_8252989  Oct 10, 2015            4.0   \n",
       "4    empReview_17495063  Oct 23, 2017            5.0   \n",
       "..                  ...           ...            ...   \n",
       "346  empReview_85736752  Mar 26, 2024            4.0   \n",
       "347  empReview_79937582  Sep 11, 2023            1.0   \n",
       "348  empReview_85832570  Mar 29, 2024            2.0   \n",
       "349  empReview_85700157  Mar 25, 2024            4.0   \n",
       "350  empReview_85877829   Apr 1, 2024            5.0   \n",
       "\n",
       "                                                  pros  \\\n",
       "0                       Great growth and great people.   \n",
       "1           Used to be great culture now there is none   \n",
       "2          Competitive packages, good work environment   \n",
       "3    its a very good startup company they got raise...   \n",
       "4                 fast pace multi cultural environment   \n",
       "..                                                 ...   \n",
       "346  Nice place to work higher management is the be...   \n",
       "347  What attracted me to parent company was the mi...   \n",
       "348                          Best people in the region   \n",
       "349  Exponential Learning | Fitness Reimbursement |...   \n",
       "350  Explained everything about the position in det...   \n",
       "\n",
       "                                                  cons  sounds_like_hr  \\\n",
       "0    As in every startup, things tend to be unstruc...            True   \n",
       "1    Management let go people without an ounce of k...           False   \n",
       "2              No work life balance, rotational shifts           False   \n",
       "3                  actually nothing to say about cons.            True   \n",
       "4                         Nothing negative to add here            True   \n",
       "..                                                 ...             ...   \n",
       "346  In my case Line manager are not eligible for t...           False   \n",
       "347  It's a total disaster from the top down. They ...           False   \n",
       "348  Work life balance is not good. Busy work is re...           False   \n",
       "349  Hire slow fire fast culture | More than averag...           False   \n",
       "350                   nothing in particular to mention            True   \n",
       "\n",
       "                                        pros_embedding  \\\n",
       "0    [0.05013425275683403, 0.016153760254383087, 0....   \n",
       "1    [-0.036672014743089676, 0.006614204496145248, ...   \n",
       "2    [-0.031563591212034225, -0.05921819806098938, ...   \n",
       "3    [0.06713095307350159, -0.00833177100867033, 0....   \n",
       "4    [0.06553180515766144, 0.039654362946748734, 0....   \n",
       "..                                                 ...   \n",
       "346  [-0.05264364555478096, 0.0022777230478823185, ...   \n",
       "347  [-0.06940412521362305, -0.05084717273712158, -...   \n",
       "348  [-0.00355895864777267, -0.045777976512908936, ...   \n",
       "349  [0.07080849260091782, 0.010619708336889744, 0....   \n",
       "350  [-0.0692061111330986, -0.02186555229127407, 0....   \n",
       "\n",
       "                                        cons_embedding  \n",
       "0    [-0.046581801027059555, 0.09486118704080582, 0...  \n",
       "1    [0.06731574237346649, 0.11190391331911087, -0....  \n",
       "2    [-0.06812486052513123, 0.1267542988061905, 0.1...  \n",
       "3    [0.06517201662063599, -0.0013001225888729095, ...  \n",
       "4    [-0.06871192157268524, -0.023984350264072418, ...  \n",
       "..                                                 ...  \n",
       "346  [-0.05477072298526764, 0.1417725533246994, 0.0...  \n",
       "347  [0.00357118365354836, 0.08031114935874939, 0.0...  \n",
       "348  [0.02342342957854271, 0.09336186200380325, 0.1...  \n",
       "349  [0.05213627591729164, 0.0846911370754242, 0.04...  \n",
       "350  [-0.039153777062892914, -0.04821391403675079, ...  \n",
       "\n",
       "[351 rows x 8 columns]"
      ]
     },
     "metadata": {},
     "output_type": "display_data"
    }
   ],
   "source": [
    "import concurrent.futures\n",
    "import os\n",
    "\n",
    "def file_exists_and_not_empty(file_path):\n",
    "    return os.path.isfile(file_path) and os.path.getsize(file_path) > 0\n",
    "\n",
    "def get_embedding(text, model=\"text-embedding-3-small\"):\n",
    "    text = text.replace(\"\\n\", \"\")\n",
    "    return openaiClient.embeddings.create(input=[text], model=model, dimensions=256).data[0].embedding\n",
    "\n",
    "def add_embeddings_to_data(data={}):\n",
    "    def process_item(item):\n",
    "        item['sounds_like_hr'] = int(item['sounds_like_hr']) == 1\n",
    "        item['pros_embedding'] = get_embedding(item['pros'])\n",
    "        item['cons_embedding'] = get_embedding(item['cons'])\n",
    "        return item\n",
    "    \n",
    "    with concurrent.futures.ThreadPoolExecutor() as executor:\n",
    "        results = list(executor.map(process_item, data))\n",
    "    \n",
    "    return pd.DataFrame(results)\n",
    "\n",
    "EMBEDDINGS_CSV = \"./embeddings/full_training_data.csv\"\n",
    "if file_exists_and_not_empty(EMBEDDINGS_CSV):\n",
    "    training_df = pd.read_csv(EMBEDDINGS_CSV)\n",
    "else:\n",
    "    training_df = add_embeddings_to_data(data=training_data)\n",
    "    training_df.to_csv(EMBEDDINGS_CSV)\n",
    "display(training_df)"
   ]
  },
  {
   "cell_type": "code",
   "execution_count": 78,
   "id": "d3e6957a-b693-4dc3-b90b-0fe8185c63eb",
   "metadata": {},
   "outputs": [
    {
     "name": "stdout",
     "output_type": "stream",
     "text": [
      "Training Set Shape: (210, 8)\n",
      "Validation & Test Set Shape: (141, 8)\n"
     ]
    }
   ],
   "source": [
    "# 2. use scikit learn to split into training and test set?\n",
    "training_set, validation_and_test_set = train_test_split(training_df, test_size=0.40, random_state=1)\n",
    "print(f\"Training Set Shape: {training_set.shape}\")\n",
    "print(f\"Validation & Test Set Shape: {validation_and_test_set.shape}\")"
   ]
  },
  {
   "cell_type": "code",
   "execution_count": 80,
   "id": "7c9a0d88-5f17-4fe3-9db5-c76487e00a4e",
   "metadata": {},
   "outputs": [],
   "source": [
    "review_genuity_dict = {item[\"empReview_id\"]: item[\"sounds_like_hr\"] for item in training_data}"
   ]
  },
  {
   "cell_type": "markdown",
   "id": "a895efc4-375b-4707-a946-3f2698e85773",
   "metadata": {},
   "source": [
    "## 1.2 Quick Experiment\n",
    "\n",
    "A quick experiment to see if my theory has some merit is the following:\n",
    "1. Take a subset of training data\n",
    "1. Divide training data into training set, test set.\n",
    "1. Convert  reviews in the training set to embeddings\n",
    "1. Store the embeddings in an in-memory vector store.\n",
    "1. Query the vector store with genuine review (from the test set) ... should return other reviews that sound genuine\n",
    "1. Query the vector store with hr review (from the test set) ... should return other reviews that sound hr.\n",
    "\n"
   ]
  },
  {
   "cell_type": "code",
   "execution_count": 81,
   "id": "73c794d9-890c-48e5-950a-909aa6234344",
   "metadata": {},
   "outputs": [
    {
     "name": "stdout",
     "output_type": "stream",
     "text": [
      "/var/folders/hg/1qlbhq551vb1w8pr07j6vp440000gn/T/tmp7nvnkblf\n"
     ]
    }
   ],
   "source": [
    "# 2. embed training set openai API and store in in-memory vector db\n",
    "with tempfile.NamedTemporaryFile(delete=False, mode=\"w+\") as temp_file:\n",
    "    temp_file_path = temp_file.name\n",
    "    training_set.drop(columns=['pros_embedding','cons_embedding']).to_csv(temp_file_path)\n",
    "    print(temp_file_path)\n",
    "\n",
    "loader = CSVLoader(file_path=temp_file_path)\n",
    "documents = loader.load()\n",
    "db = Chroma.from_documents(documents, OpenAIEmbeddings())"
   ]
  },
  {
   "cell_type": "code",
   "execution_count": 82,
   "id": "6e9a04c2-fc91-4d28-b709-ebaa90a1b6fa",
   "metadata": {},
   "outputs": [],
   "source": [
    "def extract_lines_between(multiline_string, start_marker, end_marker):\n",
    "    lines = multiline_string.splitlines()\n",
    "    start_index, end_index = -1, -1\n",
    "    \n",
    "    for index, line in enumerate(lines):\n",
    "        if line.strip().lower().startswith(start_marker.lower()):\n",
    "            start_index = index\n",
    "        elif line.strip().lower().startswith(end_marker.lower()) and start_index != -1:\n",
    "            end_index = index\n",
    "            break\n",
    "    \n",
    "    if start_index != -1 and end_index != -1:\n",
    "        return \"\\n\".join(lines[start_index:end_index])\n",
    "    else:\n",
    "        return None"
   ]
  },
  {
   "cell_type": "code",
   "execution_count": 84,
   "id": "0ad43cd7-2a17-4fae-8153-513c74d09875",
   "metadata": {},
   "outputs": [
    {
     "ename": "KeyError",
     "evalue": "'135'",
     "output_type": "error",
     "traceback": [
      "\u001b[0;31m---------------------------------------------------------------------------\u001b[0m",
      "\u001b[0;31mKeyError\u001b[0m                                  Traceback (most recent call last)",
      "Cell \u001b[0;32mIn[84], line 33\u001b[0m\n\u001b[1;32m     31\u001b[0m first_result \u001b[38;5;241m=\u001b[39m docs[\u001b[38;5;241m0\u001b[39m]\u001b[38;5;241m.\u001b[39mpage_content\n\u001b[1;32m     32\u001b[0m training_review_id \u001b[38;5;241m=\u001b[39m first_result\u001b[38;5;241m.\u001b[39msplit(\u001b[38;5;124m\"\u001b[39m\u001b[38;5;130;01m\\n\u001b[39;00m\u001b[38;5;124m\"\u001b[39m)[\u001b[38;5;241m0\u001b[39m]\u001b[38;5;241m.\u001b[39msplit(\u001b[38;5;124m\"\u001b[39m\u001b[38;5;124m: \u001b[39m\u001b[38;5;124m\"\u001b[39m)[\u001b[38;5;241m1\u001b[39m]\n\u001b[0;32m---> 33\u001b[0m training_review_sounds_like_hr \u001b[38;5;241m=\u001b[39m \u001b[43mreview_genuity_dict\u001b[49m\u001b[43m[\u001b[49m\u001b[43mtraining_review_id\u001b[49m\u001b[43m]\u001b[49m \u001b[38;5;241m==\u001b[39m \u001b[38;5;28;01mTrue\u001b[39;00m\n\u001b[1;32m     35\u001b[0m pros \u001b[38;5;241m=\u001b[39m extract_lines_between(first_result,\u001b[38;5;124m\"\u001b[39m\u001b[38;5;124mpros:\u001b[39m\u001b[38;5;124m\"\u001b[39m,\u001b[38;5;124m\"\u001b[39m\u001b[38;5;124mcons:\u001b[39m\u001b[38;5;124m\"\u001b[39m)\n\u001b[1;32m     36\u001b[0m cons \u001b[38;5;241m=\u001b[39m extract_lines_between(first_result,\u001b[38;5;124m\"\u001b[39m\u001b[38;5;124mcons:\u001b[39m\u001b[38;5;124m\"\u001b[39m,\u001b[38;5;124m\"\u001b[39m\u001b[38;5;124msounds_like_hr:\u001b[39m\u001b[38;5;124m\"\u001b[39m)\n",
      "\u001b[0;31mKeyError\u001b[0m: '135'"
     ]
    }
   ],
   "source": [
    "total_genuine_reviews_in_test_set = 0\n",
    "# Incremented when a genuine review in the test set matches a genuine review in the training set.\n",
    "correctly_matched_genuine_revews = 0\n",
    "\n",
    "total_hr_reviews_in_test_set = 0\n",
    "# Incremented when a hr review in the test set matches a hr review in the training set.\n",
    "correctly_matched_hr_revews = 0\n",
    "\n",
    "table = {\n",
    "    'Query Review Id':[], \n",
    "    'Query Review': [], \n",
    "    'Query review written by hr?': [], \n",
    "    'Matching Review Id': [], \n",
    "    'Matching Review': [],\n",
    "    'Matching Review written by hr?': []\n",
    "}\n",
    "\n",
    "for _,test_review in validation_and_test_set.iterrows():\n",
    "   \n",
    "    test_review_id = test_review['empReview_id']\n",
    "    test_review_sounds_like_hr = review_genuity_dict[test_review_id] == 1\n",
    "    \n",
    "    if test_review_sounds_like_hr:\n",
    "        total_hr_reviews_in_test_set += 1\n",
    "    else:\n",
    "        total_genuine_reviews_in_test_set += 1\n",
    "    \n",
    "    query = test_review['cons']\n",
    "    \n",
    "    docs = db.similarity_search(query)\n",
    "    first_result = docs[0].page_content\n",
    "    training_review_id = first_result.split(\"\\n\")[0].split(\": \")[1]\n",
    "    training_review_sounds_like_hr = review_genuity_dict[training_review_id] == True\n",
    "\n",
    "    pros = extract_lines_between(first_result,\"pros:\",\"cons:\")\n",
    "    cons = extract_lines_between(first_result,\"cons:\",\"sounds_like_hr:\")\n",
    "    \n",
    "    if review_genuity_dict[training_review_id] == review_genuity_dict[test_review_id]:\n",
    "        if test_review_sounds_like_hr:\n",
    "            correctly_matched_hr_revews += 1\n",
    "        else:\n",
    "            correctly_matched_genuine_revews += 1\n",
    "\n",
    "    table['Query Review Id'].append(test_review_id)\n",
    "    table['Query review written by hr?'].append(test_review_sounds_like_hr)\n",
    "    table['Matching Review Id'].append(training_review_id)\n",
    "    table['Matching Review'].append(cons)\n",
    "    table['Matching Review written by hr?'].append(trainingt_review_sounds_like_hr)\n",
    "    table['Query Review'].append(query)"
   ]
  },
  {
   "cell_type": "code",
   "execution_count": 85,
   "id": "c7ff3fed-48b3-4ca9-87b3-782ccdd4625c",
   "metadata": {
    "scrolled": true
   },
   "outputs": [
    {
     "data": {
      "text/html": [
       "<table border=\"1\" class=\"dataframe\">\n",
       "  <thead>\n",
       "    <tr style=\"text-align: right;\">\n",
       "      <th></th>\n",
       "      <th>Query Review Id</th>\n",
       "      <th>Query Review</th>\n",
       "      <th>Query review written by hr?</th>\n",
       "      <th>Matching Review Id</th>\n",
       "      <th>Matching Review</th>\n",
       "      <th>Matching Review written by hr?</th>\n",
       "    </tr>\n",
       "  </thead>\n",
       "  <tbody>\n",
       "  </tbody>\n",
       "</table>"
      ],
      "text/plain": [
       "<IPython.core.display.HTML object>"
      ]
     },
     "metadata": {},
     "output_type": "display_data"
    }
   ],
   "source": [
    "df = pd.DataFrame(table)\n",
    "display(HTML(df.to_html()))"
   ]
  },
  {
   "cell_type": "code",
   "execution_count": 47,
   "id": "878b4ce2-8a32-456a-bf97-ea8048575212",
   "metadata": {},
   "outputs": [
    {
     "name": "stdout",
     "output_type": "stream",
     "text": [
      "Genuine Score: 0/1 = 0.0\n"
     ]
    },
    {
     "ename": "ZeroDivisionError",
     "evalue": "division by zero",
     "output_type": "error",
     "traceback": [
      "\u001b[0;31m---------------------------------------------------------------------------\u001b[0m",
      "\u001b[0;31mZeroDivisionError\u001b[0m                         Traceback (most recent call last)",
      "Cell \u001b[0;32mIn[47], line 2\u001b[0m\n\u001b[1;32m      1\u001b[0m \u001b[38;5;28mprint\u001b[39m(\u001b[38;5;124mf\u001b[39m\u001b[38;5;124m\"\u001b[39m\u001b[38;5;124mGenuine Score: \u001b[39m\u001b[38;5;132;01m{\u001b[39;00mcorrectly_matched_genuine_revews\u001b[38;5;132;01m}\u001b[39;00m\u001b[38;5;124m/\u001b[39m\u001b[38;5;132;01m{\u001b[39;00mtotal_genuine_reviews_in_test_set\u001b[38;5;132;01m}\u001b[39;00m\u001b[38;5;124m = \u001b[39m\u001b[38;5;132;01m{\u001b[39;00m(correctly_matched_genuine_revews\u001b[38;5;241m/\u001b[39mtotal_genuine_reviews_in_test_set)\u001b[38;5;241m*\u001b[39m\u001b[38;5;241m100\u001b[39m\u001b[38;5;132;01m}\u001b[39;00m\u001b[38;5;124m\"\u001b[39m)\n\u001b[0;32m----> 2\u001b[0m \u001b[38;5;28mprint\u001b[39m(\u001b[38;5;124mf\u001b[39m\u001b[38;5;124m\"\u001b[39m\u001b[38;5;124mHR Score: \u001b[39m\u001b[38;5;132;01m{\u001b[39;00mcorrectly_matched_hr_revews\u001b[38;5;132;01m}\u001b[39;00m\u001b[38;5;124m/\u001b[39m\u001b[38;5;132;01m{\u001b[39;00mtotal_hr_reviews_in_test_set\u001b[38;5;132;01m}\u001b[39;00m\u001b[38;5;124m = \u001b[39m\u001b[38;5;132;01m{\u001b[39;00m(\u001b[43mcorrectly_matched_hr_revews\u001b[49m\u001b[38;5;241;43m/\u001b[39;49m\u001b[43mtotal_hr_reviews_in_test_set\u001b[49m)\u001b[38;5;241m*\u001b[39m\u001b[38;5;241m100\u001b[39m\u001b[38;5;132;01m}\u001b[39;00m\u001b[38;5;124m\"\u001b[39m)\n",
      "\u001b[0;31mZeroDivisionError\u001b[0m: division by zero"
     ]
    }
   ],
   "source": [
    "print(f\"Genuine Score: {correctly_matched_genuine_revews}/{total_genuine_reviews_in_test_set} = {(correctly_matched_genuine_revews/total_genuine_reviews_in_test_set)*100}\")\n",
    "print(f\"HR Score: {correctly_matched_hr_revews}/{total_hr_reviews_in_test_set} = {(correctly_matched_hr_revews/total_hr_reviews_in_test_set)*100}\")"
   ]
  },
  {
   "cell_type": "markdown",
   "id": "28f839e9-390c-4ab9-9e30-d48747c417ef",
   "metadata": {},
   "source": [
    "### Error Analysis\n",
    "\n",
    "The goal of this experiment was to see if reviews that seemed like they were writtn by HR use the same kind of language (which would result in matches when querying in a vector database). The only field that was considered for this experiment was the 'cons' field.\n",
    "\n",
    "We do see some instances of this in the table e.g. \"no cons\" , \"Few peoples are not working hard they will down value of company and team members.\" It's difficult to conclude because the test set only contained 7 reviews that seemed like they were written by HR. Should repeat this experiment with a larger data sample.\n",
    "\n",
    "What we also see is that HR cons section tend to shorter than genuine ones, and frequently share the pr-friendly con \"long hours, startups are choatic\" e.t.c . We only considered the \"cons\" field, but when we combine this with the rating field, I feel that an AI model would be able to pick up on these differences and therefore be able to classify a review that looks like it was written by HR.\n",
    "\n",
    "In short:\n",
    "1. Need to try this experiemnt with a larger data set.\n",
    "2. There are indications that a model might be able to classify this.\n"
   ]
  },
  {
   "cell_type": "markdown",
   "id": "455754be-e330-4a42-b62b-5152b4f44b87",
   "metadata": {},
   "source": [
    "# 2. Visualising the Embeddings"
   ]
  },
  {
   "cell_type": "markdown",
   "id": "0b4b8f8b-0d02-4212-8be3-6525e5c51643",
   "metadata": {},
   "source": [
    "We will compare the embeddings of pros and cons of genuine and HR written reviews to see their relative position in the embedding vector space. \n",
    "\n",
    "Given my observation that either:\n",
    "- HR written cons claim there aren't any e.g. \"no cons\", \"Can't think of any, really.\", \"nothing to mention everything is going great\"\n",
    "- HR written cons tend to be PR friendly e.g. \"you'll need to work late but that is expected for a startup\"\n",
    "Then\n",
    "- The embedding of HR cons will have some specific clusters, corresponding to e.g. \"no cons\" and/or \"late sittings\"\n",
    "- The embedding of HR cons will overlap with pros."
   ]
  },
  {
   "cell_type": "markdown",
   "id": "86422f48-2cff-4395-8009-c877becf62e9",
   "metadata": {},
   "source": [
    "First, let's see what embeddings look like"
   ]
  },
  {
   "cell_type": "code",
   "execution_count": 62,
   "id": "0529c766-9b24-48ba-bfd9-ac7398e04e28",
   "metadata": {
    "scrolled": true
   },
   "outputs": [
    {
     "name": "stdout",
     "output_type": "stream",
     "text": [
      "Geninuine Pros Embedding Shape: (283, 256)\n",
      "Geninuine Cons Embedding Shape: (283, 256)\n",
      "HR Pros Embedding Shape: (68, 256)\n",
      "HR Cons Embedding Shape: (68, 256)\n"
     ]
    }
   ],
   "source": [
    "genuine_pros_matrix = np.array([i['pros_embedding'] for i in list(filter(lambda t : t['sounds_like_hr'] == False, training_data))])\n",
    "genuine_cons_matrix = np.array([i['cons_embedding'] for i in list(filter(lambda t : t['sounds_like_hr'] == False, training_data))])\n",
    "hr_pros_matrix = np.array([i['pros_embedding'] for i in list(filter(lambda t : t['sounds_like_hr'] == True, training_data))])\n",
    "hr_cons_matrix = np.array([i['cons_embedding'] for i in list(filter(lambda t : t['sounds_like_hr'] == True, training_data))])\n",
    "print(f\"Geninuine Pros Embedding Shape: {genuine_pros_matrix.shape}\")\n",
    "print(f\"Geninuine Cons Embedding Shape: {genuine_cons_matrix.shape}\")\n",
    "print(f\"HR Pros Embedding Shape: {hr_pros_matrix.shape}\")\n",
    "print(f\"HR Cons Embedding Shape: {hr_cons_matrix.shape}\")"
   ]
  },
  {
   "cell_type": "markdown",
   "id": "42c554e9-a105-40ab-a369-31f322f94911",
   "metadata": {},
   "source": [
    "## 2.1 Principal Component Analysis\n",
    "\n",
    "We can see here that each review has 256 parameters. In order to visualise the relative position of embeddings, we will need to perform principal component analysis\n"
   ]
  },
  {
   "cell_type": "code",
   "execution_count": 63,
   "id": "cf3175ac-a6fc-4cd8-87e7-29b3f55a5d6f",
   "metadata": {},
   "outputs": [
    {
     "name": "stdout",
     "output_type": "stream",
     "text": [
      "Explained Variance Ratio: [0.05845741 0.05675493]\n",
      "(283, 2)\n",
      "(283, 2)\n",
      "(68, 2)\n",
      "(68, 2)\n"
     ]
    }
   ],
   "source": [
    "from sklearn.decomposition import PCA\n",
    "\n",
    "# Loading the PCA algorithm\n",
    "pca_2 = PCA(n_components=2)\n",
    "# Let's fit the data. We do not need to scale it, since sklearn's implementation already handles it.\n",
    "pca_2.fit(genuine_pros_matrix)\n",
    "print(f\"Explained Variance Ratio: {pca_2.explained_variance_ratio_}\")\n",
    "\n",
    "genuine_pros_2d = pca_2.transform(genuine_pros_matrix)\n",
    "genuine_cons_2d = pca_2.transform(genuine_cons_matrix)\n",
    "hr_pros_2d = pca_2.transform(hr_pros_matrix)\n",
    "hr_cons_2d = pca_2.transform(hr_cons_matrix)\n",
    "print(genuine_pros_2d.shape)\n",
    "print(genuine_cons_2d.shape)\n",
    "print(hr_pros_2d.shape)\n",
    "print(hr_cons_2d.shape)"
   ]
  },
  {
   "cell_type": "code",
   "execution_count": 64,
   "id": "0ceceeb6-ec08-48fa-8db2-77ed4d855873",
   "metadata": {},
   "outputs": [
    {
     "data": {
      "text/plain": [
       "<matplotlib.collections.PathCollection at 0x3120d9bb0>"
      ]
     },
     "execution_count": 64,
     "metadata": {},
     "output_type": "execute_result"
    },
    {
     "data": {
      "image/png": "[encoded data removed]",
      "text/plain": [
       "<Figure size 640x480 with 1 Axes>"
      ]
     },
     "metadata": {},
     "output_type": "display_data"
    }
   ],
   "source": [
    "import matplotlib.pyplot as plt\n",
    "import matplotlib\n",
    "\n",
    "xgp = [x for x,y in genuine_pros_2d]\n",
    "ygp = [y for x,y in genuine_pros_2d]\n",
    "xgc = [x for x,y in genuine_cons_2d]\n",
    "ygc = [y for x,y in genuine_cons_2d]\n",
    "\n",
    "xhp = [x for x,y in hr_pros_2d]\n",
    "yhp = [y for x,y in hr_pros_2d]\n",
    "xhc = [x for x,y in hr_cons_2d]\n",
    "yhc = [y for x,y in hr_cons_2d]\n",
    "\n",
    "plt.scatter(xgp, ygp, c='green', alpha=0.3)\n",
    "plt.scatter(xgc, ygc, c='red', alpha=0.3)\n",
    "plt.scatter(xhp, yhp, c='#008800')\n",
    "plt.scatter(xhc, yhc, c='#b22222')"
   ]
  },
  {
   "cell_type": "markdown",
   "id": "2a73fb6e-f399-4486-9fee-91f6d0b08e9d",
   "metadata": {},
   "source": [
    "*Note: While researching, I came across something called [TSNE](https://cookbook.openai.com/examples/visualizing_embeddings_in_2d). Saving it here to study more about it later.*"
   ]
  },
  {
   "cell_type": "markdown",
   "id": "0fdfd67d-b501-4b8c-b1be-26cb9405f09a",
   "metadata": {},
   "source": [
    "## Neural Network"
   ]
  },
  {
   "cell_type": "code",
   "execution_count": 1,
   "id": "95acc87f-6ff0-4657-9bea-86d4ec77a6a2",
   "metadata": {},
   "outputs": [],
   "source": [
    "import logging\n",
    "import tensorflow as tf\n",
    "from tensorflow.keras.layers import Dense, Input\n",
    "from tensorflow.keras import Sequential\n",
    "from tensorflow.keras.losses import MeanSquaredError, BinaryCrossentropy\n",
    "from tensorflow.keras.activations import sigmoid\n",
    "\n",
    "logging.getLogger(\"tensorflow\").setLevel(logging.ERROR)\n",
    "tf.autograph.set_verbosity(0)"
   ]
  },
  {
   "cell_type": "code",
   "execution_count": 12,
   "id": "55bffe28-08ee-4f6a-94dc-206d46f5fd15",
   "metadata": {},
   "outputs": [
    {
     "name": "stdout",
     "output_type": "stream",
     "text": [
      "Training Set Shape: (210,)\n",
      "Validation Set Shaoe: (9,)\n",
      "Test Set Shape: (9,)\n"
     ]
    }
   ],
   "source": [
    "x:\n",
    "- rating          1\n",
    "- pros_embeddings 256\n",
    "- cons_embeddings 256\n",
    "[513]\n",
    "y:\n",
    "- sounds_like_hr\n",
    "\n",
    "# "
   ]
  },
  {
   "cell_type": "code",
   "execution_count": null,
   "id": "e1956257-2906-4c67-800a-85107d944988",
   "metadata": {},
   "outputs": [],
   "source": []
  }
 ],
 "metadata": {
  "kernelspec": {
   "display_name": "Python 3 (ipykernel)",
   "language": "python",
   "name": "python3"
  },
  "language_info": {
   "codemirror_mode": {
    "name": "ipython",
    "version": 3
   },
   "file_extension": ".py",
   "mimetype": "text/x-python",
   "name": "python",
   "nbconvert_exporter": "python",
   "pygments_lexer": "ipython3",
   "version": "3.12.5"
  }
 },
 "nbformat": 4,
 "nbformat_minor": 5
}
