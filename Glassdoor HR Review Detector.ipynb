{
 "cells": [
  {
   "cell_type": "markdown",
   "id": "398c4ab2-0150-449d-a329-f379b33c131b",
   "metadata": {},
   "source": [
    "# Glassdoor HR Review Detector"
   ]
  },
  {
   "cell_type": "markdown",
   "id": "5c11a4cb-c495-4a66-ac9a-5022ca56926b",
   "metadata": {},
   "source": [
    "## Theory\n",
    "\n",
    "- The kinds of words that genuine employees use in glassdoor review is different from the one used by HR.\n",
    "- So my theory is that I can use AI to distinguist between these two kind of reviews.\n",
    "- This will be achived using embeddings. An embedding is a coversion of natural language to vectors. Vectors of similar words are close to each other. My theory is that one or more regions of of the vector space are more of the human resources kind while other regions are more of the genuine employee kinds.\n",
    "- My goal is to train a neural network to identify regions in the vector space that are \"hr\"-ish vs. regions that are \"genuine\"-ish. Based on this, given a review text, the network will be able to predict if the review was written by HR or not.\n",
    "\n",
    "\n",
    "- Training data consists of pros, cons, overall review, sounds like hr\n",
    "- pros, cons represented as vector embeddings using openai api"
   ]
  },
  {
   "cell_type": "markdown",
   "id": "a895efc4-375b-4707-a946-3f2698e85773",
   "metadata": {},
   "source": [
    "## Quick Experiment\n",
    "\n",
    "A quick experiment to see if my theory has some merit is the following:\n",
    "1. Take a subset of training data\n",
    "1. Divide training data into training set, test set.\n",
    "1. Convert  reviews in the training set to embeddings\n",
    "1. Store the embeddings in an in-memory vector store.\n",
    "1. Query the vector store with genuine review (from the test set) ... should return other reviews that sound genuine\n",
    "1. Query the vector store with hr review (from the test set) ... should return other reviews that sound hr.\n",
    "\n"
   ]
  },
  {
   "cell_type": "code",
   "execution_count": 20,
   "id": "73c794d9-890c-48e5-950a-909aa6234344",
   "metadata": {},
   "outputs": [
    {
     "name": "stdout",
     "output_type": "stream",
     "text": [
      "id: empReview_25252248\n",
      "date: Mar 20, 2019\n",
      "overall_rating: 1.0\n",
      "pros: good salary but with bad life and bad work life\n",
      "cons: - toxic environment on QA Team at jordan\n",
      "- there is no ability to improve yourself\n",
      "- Super bad evaluation\n",
      "- the management of the QA Team at jordan is not good, not knowledgeable and experienced.\n",
      "- fake report generated for management\n",
      "id: empReview_17494789\n",
      "date: Oct 23, 2017\n",
      "overall_rating: 4.0\n",
      "pros: Career path- Supportive Management!\n",
      "challenging\n",
      "cons: Work under pressure! but its worth it.\n"
     ]
    }
   ],
   "source": [
    "import csv\n",
    "import tempfile\n",
    "from utils.utils import load_csv_as_dictionary, array_of_dictionaries_to_csv_string\n",
    "from sklearn.model_selection import train_test_split\n",
    "from langchain_openai import OpenAIEmbeddings\n",
    "from langchain_community.document_loaders.csv_loader import CSVLoader\n",
    "from langchain_chroma import Chroma\n",
    "\n",
    "# 1. load csv as array of objects \n",
    "data = load_csv_as_dictionary(csv_filename='training-data/glassdoor-reviews-main.csv')\n",
    "\n",
    "# 2. use scikit learn to split into training and test set?\n",
    "training_set, test_set = train_test_split(data, test_size=0.40, random_state=1)\n",
    "\n",
    "# 3. Remove the sounds_like_hr property. format training set into csv\n",
    "for unit in training_set:\n",
    "    del unit[\"sounds_like_hr\"]\n",
    "\n",
    "training_set_csv = array_of_dictionaries_to_csv_string(training_set)\n",
    "\n",
    "    \n",
    "# 4. embed training set openai API and store in in-memory vector db\n",
    "with tempfile.NamedTemporaryFile(delete=False, mode=\"w+\") as temp_file:\n",
    "    temp_file.write(training_set_csv)\n",
    "    temp_file_path = temp_file.name\n",
    "\n",
    "loader = CSVLoader(file_path=temp_file_path)\n",
    "documents = loader.load()\n",
    "db = Chroma.from_documents(documents, OpenAIEmbeddings())\n",
    "\n",
    "# 5. filter test set for a genuine review. query vector store. See what % of results are genuine\n",
    "genuine = list(filter(lambda sample : sample['sounds_like_hr']=='0',test_set))[0]['cons']\n",
    "docs = db.similarity_search(genuine)\n",
    "print(docs[0].page_content)\n",
    "\n",
    "# 6. filter test set for an hr review. query vector store. See what % of results are genuine\n",
    "hr_written = list(filter(lambda sample : sample['sounds_like_hr']=='1',test_set))[0]['cons']\n",
    "docs = db.similarity_search(hr_written)\n",
    "print(docs[0].page_content)"
   ]
  }
 ],
 "metadata": {
  "kernelspec": {
   "display_name": "Python 3 (ipykernel)",
   "language": "python",
   "name": "python3"
  },
  "language_info": {
   "codemirror_mode": {
    "name": "ipython",
    "version": 3
   },
   "file_extension": ".py",
   "mimetype": "text/x-python",
   "name": "python",
   "nbconvert_exporter": "python",
   "pygments_lexer": "ipython3",
   "version": "3.12.5"
  }
 },
 "nbformat": 4,
 "nbformat_minor": 5
}
